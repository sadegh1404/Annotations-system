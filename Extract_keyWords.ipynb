{
 "cells": [
  {
   "cell_type": "code",
   "execution_count": 70,
   "metadata": {},
   "outputs": [],
   "source": [
    "import pandas as pd\n",
    "import numpy as np\n",
    "import nltk\n",
    "import re\n",
    "import cleaner\n",
    "\n"
   ]
  },
  {
   "cell_type": "code",
   "execution_count": null,
   "metadata": {},
   "outputs": [],
   "source": [
    "data = pd.read_csv('./culture.csv')"
   ]
  },
  {
   "cell_type": "code",
   "execution_count": 67,
   "metadata": {},
   "outputs": [],
   "source": [
    "def delete_stop_words(words):\n",
    "    clean_words = [] \n",
    "    preprocessor = cleaner.Preproccess()\n",
    "    stop_words  = preprocessor.get_stop_words()\n",
    "    for i in words:\n",
    "        if i  not in stop_words:\n",
    "            clean_words.append(i)\n",
    "    return clean_words\n"
   ]
  },
  {
   "cell_type": "code",
   "execution_count": 258,
   "metadata": {},
   "outputs": [],
   "source": [
    "sentence = nltk.sent_tokenize(unicode(data['mText'][1],'utf-8'))\n",
    "sentSeri = pd.Series(sentence)\n",
    "words = nltk.word_tokenize(sentence[0])"
   ]
  },
  {
   "cell_type": "code",
   "execution_count": 259,
   "metadata": {
    "scrolled": true
   },
   "outputs": [
    {
     "data": {
      "text/plain": [
       "0         بنا\n",
       "1          بر\n",
       "2         این\n",
       "3      گزارش،\n",
       "4         این\n",
       "5       تصمیم\n",
       "6          پس\n",
       "7          از\n",
       "8      درگیری\n",
       "9        لفظی\n",
       "10        آرش\n",
       "11    ظلی‌پور\n",
       "12         با\n",
       "13      مسعود\n",
       "14     فراستی\n",
       "15         در\n",
       "16     برنامه\n",
       "17        روز\n",
       "18       جمعه\n",
       "19      گرفته\n",
       "20        شد.\n",
       "dtype: object"
      ]
     },
     "execution_count": 259,
     "metadata": {},
     "output_type": "execute_result"
    }
   ],
   "source": [
    "pd.Series(sentence[1].split(' '))"
   ]
  },
  {
   "cell_type": "code",
   "execution_count": 232,
   "metadata": {},
   "outputs": [],
   "source": []
  },
  {
   "cell_type": "code",
   "execution_count": 263,
   "metadata": {},
   "outputs": [],
   "source": [
    "sent = re.sub(r'\\s.{2,10}$','',sentence[1])"
   ]
  },
  {
   "cell_type": "code",
   "execution_count": 264,
   "metadata": {},
   "outputs": [],
   "source": [
    "words = nltk.word_tokenize(sent)\n",
    "words = delete_stop_words(words)"
   ]
  },
  {
   "cell_type": "code",
   "execution_count": 265,
   "metadata": {},
   "outputs": [
    {
     "data": {
      "text/plain": [
       "0         بنا\n",
       "1      گزارش،\n",
       "2       تصمیم\n",
       "3      درگیری\n",
       "4        لفظی\n",
       "5         آرش\n",
       "6     ظلی‌پور\n",
       "7       مسعود\n",
       "8      فراستی\n",
       "9      برنامه\n",
       "10       جمعه\n",
       "dtype: object"
      ]
     },
     "execution_count": 265,
     "metadata": {},
     "output_type": "execute_result"
    }
   ],
   "source": [
    "pd.Series(words)"
   ]
  },
  {
   "cell_type": "code",
   "execution_count": null,
   "metadata": {},
   "outputs": [],
   "source": []
  }
 ],
 "metadata": {
  "kernelspec": {
   "display_name": "Python 3",
   "language": "python",
   "name": "python3"
  },
  "language_info": {
   "codemirror_mode": {
    "name": "ipython",
    "version": 2
   },
   "file_extension": ".py",
   "mimetype": "text/x-python",
   "name": "python",
   "nbconvert_exporter": "python",
   "pygments_lexer": "ipython2",
   "version": "2.7.15rc1"
  }
 },
 "nbformat": 4,
 "nbformat_minor": 2
}
