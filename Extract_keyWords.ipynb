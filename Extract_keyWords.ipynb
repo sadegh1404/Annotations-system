{
 "cells": [
  {
   "cell_type": "code",
   "execution_count": 31,
   "metadata": {},
   "outputs": [],
   "source": [
    "import pandas as pd\n",
    "import numpy as np\n",
    "import nltk\n",
    "import re\n",
    "import cleaner\n",
    "import hazm\n",
    "\n"
   ]
  },
  {
   "cell_type": "code",
   "execution_count": 2,
   "metadata": {},
   "outputs": [],
   "source": [
    "data = pd.read_csv('./culture.csv')"
   ]
  },
  {
   "cell_type": "code",
   "execution_count": 46,
   "metadata": {},
   "outputs": [],
   "source": [
    "def delete_stop_words(word):    \n",
    "    if len(word)<3:\n",
    "        return False\n",
    "    else:\n",
    "        n = re.sub(u'[\\u060c|.|:|;|!|@|#|$|%|^|&|*|\\xab|\\xbb|/]','',word)\n",
    "    return n"
   ]
  },
  {
   "cell_type": "code",
   "execution_count": 47,
   "metadata": {},
   "outputs": [],
   "source": [
    "def clean_text(text):\n",
    "    normalizer = hazm.Normalizer()\n",
    "    text = normalizer.affix_spacing(text)\n",
    "    sentence = nltk.word_tokenize(unicode(text,'utf-8'))\n",
    "    clean_words = [] \n",
    "    for i in range(len(sentence)):\n",
    "        res = delete_stop_words(sentence[i])\n",
    "        if res:\n",
    "            clean_words.append({'Position':i,'Word':res})\n",
    "    return clean_words"
   ]
  },
  {
   "cell_type": "code",
   "execution_count": 48,
   "metadata": {},
   "outputs": [],
   "source": [
    "text = data['mText'][0]\n",
    "words = clean_text(text)"
   ]
  },
  {
   "cell_type": "code",
   "execution_count": 49,
   "metadata": {},
   "outputs": [],
   "source": [
    "lemmet = hazm.Lemmatizer()\n",
    "for i in words:\n",
    "    i['Word'] = lemmet.lemmatize(i['Word'])"
   ]
  },
  {
   "cell_type": "code",
   "execution_count": 51,
   "metadata": {},
   "outputs": [],
   "source": [
    "s = nltk.stem.WordNetLemmatizer()"
   ]
  },
  {
   "cell_type": "code",
   "execution_count": 66,
   "metadata": {},
   "outputs": [],
   "source": [
    "word_list = pd.Series([i['Word'] for i in words])"
   ]
  },
  {
   "cell_type": "code",
   "execution_count": 85,
   "metadata": {},
   "outputs": [
    {
     "name": "stdout",
     "output_type": "stream",
     "text": [
      "این           0.040000\n",
      "طنز           0.026667\n",
      "فارس          0.026667\n",
      "روال          0.026667\n",
      "بررسی         0.026667\n",
      "بیشتر         0.026667\n",
      "استان         0.026667\n",
      "عادی          0.026667\n",
      "خود           0.026667\n",
      "شبکه          0.026667\n",
      "شبخند         0.026667\n",
      "شما           0.026667\n",
      "گزارش         0.026667\n",
      "ساعت          0.013333\n",
      "فاصله         0.013333\n",
      "شاعر          0.013333\n",
      "آثار          0.013333\n",
      "خبرگزاری      0.013333\n",
      "پرداخت        0.013333\n",
      "طنزپرداز      0.013333\n",
      "برنامه        0.013333\n",
      "پیام          0.013333\n",
      "رفت#رو        0.013333\n",
      "دوشنبه        0.013333\n",
      "یاد           0.013333\n",
      "پیش           0.013333\n",
      "بنا           0.013333\n",
      "خواست#خواه    0.013333\n",
      "زاویه         0.013333\n",
      "گذشت#گذر      0.013333\n",
      "                ...   \n",
      "درگذشت        0.013333\n",
      "مدعو          0.013333\n",
      "فاخر          0.013333\n",
      "اخبار         0.013333\n",
      "استاد         0.013333\n",
      "مدت           0.013333\n",
      "ادبیات        0.013333\n",
      "رأس           0.013333\n",
      "سازندگان      0.013333\n",
      "ابوالفضل      0.013333\n",
      "سرشناس        0.013333\n",
      "نگاه          0.013333\n",
      "فکاهی         0.013333\n",
      "ترکیب         0.013333\n",
      "نصرآباد       0.013333\n",
      "حال           0.013333\n",
      "ادب           0.013333\n",
      "حضور          0.013333\n",
      "مرور          0.013333\n",
      "روی           0.013333\n",
      "گرفته         0.013333\n",
      "زرویی         0.013333\n",
      "مجددا         0.013333\n",
      "آغاز          0.013333\n",
      "رقابت         0.013333\n",
      "مسابقه        0.013333\n",
      "زنده          0.013333\n",
      "انتهای        0.013333\n",
      "بیست          0.013333\n",
      "احترام        0.013333\n",
      "Length: 61, dtype: float64\n"
     ]
    }
   ],
   "source": [
    "print(word_list.value_counts())"
   ]
  },
  {
   "cell_type": "code",
   "execution_count": null,
   "metadata": {},
   "outputs": [],
   "source": []
  },
  {
   "cell_type": "code",
   "execution_count": 50,
   "metadata": {},
   "outputs": [
    {
     "data": {
      "text/plain": [
       "0         {u'Position': 1, u'Word': u'گزارش'}\n",
       "1      {u'Position': 2, u'Word': u'خبرگزاری'}\n",
       "2          {u'Position': 3, u'Word': u'فارس'}\n",
       "3           {u'Position': 5, u'Word': u'حال'}\n",
       "4         {u'Position': 9, u'Word': u'بیشتر'}\n",
       "5         {u'Position': 11, u'Word': u'آغاز'}\n",
       "6       {u'Position': 12, u'Word': u'مسابقه'}\n",
       "7          {u'Position': 13, u'Word': u'ادب'}\n",
       "8        {u'Position': 14, u'Word': u'فکاهی'}\n",
       "9        {u'Position': 15, u'Word': u'شبخند'}\n",
       "10        {u'Position': 17, u'Word': u'شبکه'}\n",
       "11         {u'Position': 18, u'Word': u'شما'}\n",
       "12       {u'Position': 19, u'Word': u'بیشتر'}\n",
       "13    {u'Position': 20, u'Word': u'گذشت#گذر'}\n",
       "14    {u'Position': 21, u'Word': u'سازندگان'}\n",
       "15         {u'Position': 22, u'Word': u'این'}\n",
       "16      {u'Position': 23, u'Word': u'برنامه'}\n",
       "17      {u'Position': 25, u'Word': u'احترام'}\n",
       "18      {u'Position': 26, u'Word': u'درگذشت'}\n",
       "19        {u'Position': 27, u'Word': u'زنده'}\n",
       "20         {u'Position': 28, u'Word': u'یاد'}\n",
       "21    {u'Position': 29, u'Word': u'ابوالفضل'}\n",
       "22       {u'Position': 30, u'Word': u'زرویی'}\n",
       "23     {u'Position': 31, u'Word': u'نصرآباد'}\n",
       "24        {u'Position': 33, u'Word': u'روال'}\n",
       "25        {u'Position': 34, u'Word': u'عادی'}\n",
       "26       {u'Position': 36, u'Word': u'ترکیب'}\n",
       "27       {u'Position': 37, u'Word': u'رقابت'}\n",
       "28         {u'Position': 38, u'Word': u'خود'}\n",
       "29         {u'Position': 40, u'Word': u'مدت'}\n",
       "                       ...                   \n",
       "45         {u'Position': 63, u'Word': u'این'}\n",
       "46       {u'Position': 64, u'Word': u'گزارش'}\n",
       "47      {u'Position': 66, u'Word': u'دوشنبه'}\n",
       "48         {u'Position': 67, u'Word': u'پیش'}\n",
       "49       {u'Position': 69, u'Word': u'شبخند'}\n",
       "50        {u'Position': 71, u'Word': u'روال'}\n",
       "51        {u'Position': 72, u'Word': u'عادی'}\n",
       "52         {u'Position': 73, u'Word': u'خود'}\n",
       "53       {u'Position': 75, u'Word': u'بررسی'}\n",
       "54       {u'Position': 76, u'Word': u'اخبار'}\n",
       "55       {u'Position': 77, u'Word': u'استان'}\n",
       "56       {u'Position': 79, u'Word': u'زاویه'}\n",
       "57        {u'Position': 80, u'Word': u'نگاه'}\n",
       "58         {u'Position': 81, u'Word': u'طنز'}\n",
       "59        {u'Position': 84, u'Word': u'حضور'}\n",
       "60        {u'Position': 85, u'Word': u'شاعر'}\n",
       "61    {u'Position': 87, u'Word': u'طنزپرداز'}\n",
       "62        {u'Position': 88, u'Word': u'مدعو'}\n",
       "63       {u'Position': 90, u'Word': u'استان'}\n",
       "64       {u'Position': 91, u'Word': u'مجددا'}\n",
       "65         {u'Position': 92, u'Word': u'رأس'}\n",
       "66        {u'Position': 93, u'Word': u'ساعت'}\n",
       "67        {u'Position': 94, u'Word': u'بیست'}\n",
       "68         {u'Position': 98, u'Word': u'روی'}\n",
       "69        {u'Position': 99, u'Word': u'آنتن'}\n",
       "70       {u'Position': 100, u'Word': u'شبکه'}\n",
       "71        {u'Position': 101, u'Word': u'شما'}\n",
       "72     {u'Position': 102, u'Word': u'رفت#رو'}\n",
       "73     {u'Position': 104, u'Word': u'انتهای'}\n",
       "74       {u'Position': 105, u'Word': u'پیام'}\n",
       "Length: 75, dtype: object"
      ]
     },
     "execution_count": 50,
     "metadata": {},
     "output_type": "execute_result"
    }
   ],
   "source": [
    "pd.Series(words)"
   ]
  },
  {
   "cell_type": "code",
   "execution_count": null,
   "metadata": {},
   "outputs": [],
   "source": []
  },
  {
   "cell_type": "code",
   "execution_count": null,
   "metadata": {},
   "outputs": [],
   "source": []
  },
  {
   "cell_type": "code",
   "execution_count": null,
   "metadata": {},
   "outputs": [],
   "source": []
  },
  {
   "cell_type": "code",
   "execution_count": null,
   "metadata": {},
   "outputs": [],
   "source": []
  },
  {
   "cell_type": "code",
   "execution_count": null,
   "metadata": {},
   "outputs": [],
   "source": []
  }
 ],
 "metadata": {
  "kernelspec": {
   "display_name": "Python 3",
   "language": "python",
   "name": "python3"
  },
  "language_info": {
   "codemirror_mode": {
    "name": "ipython",
    "version": 2
   },
   "file_extension": ".py",
   "mimetype": "text/x-python",
   "name": "python",
   "nbconvert_exporter": "python",
   "pygments_lexer": "ipython2",
   "version": "2.7.15rc1"
  }
 },
 "nbformat": 4,
 "nbformat_minor": 2
}
